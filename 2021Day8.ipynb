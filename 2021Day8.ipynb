{
 "cells": [
  {
   "cell_type": "code",
   "execution_count": 162,
   "metadata": {},
   "outputs": [],
   "source": [
    "# Import packages\n",
    "import numpy as np\n",
    "curDay = 8\n",
    "\n",
    "# # Download input file\n",
    "# from download_inputs import download_inputs\n",
    "\n",
    "# download_inputs(curDay)"
   ]
  },
  {
   "cell_type": "code",
   "execution_count": 163,
   "metadata": {},
   "outputs": [
    {
     "name": "stdout",
     "output_type": "stream",
     "text": [
      "Done loading input\n"
     ]
    }
   ],
   "source": [
    "# Load input into workspace\n",
    "filename = f'inputs\\\\day{curDay}.txt'\n",
    "# filename = f'inputs\\\\day{curDay}test.txt'\n",
    "# filename = f'inputs\\\\day{curDay}test2.txt'\n",
    "# curIn = np.loadtxt(filename)\n",
    "\n",
    "# filename= 'inputs\\\\asdf.txt'\n",
    "\n",
    "# Start by loading the data\n",
    "inputFile = open(filename)\n",
    "inputs = []\n",
    "inputs = [s for s in inputFile.read().splitlines()]\n",
    "\n",
    "print('Done loading input')"
   ]
  },
  {
   "cell_type": "code",
   "execution_count": 164,
   "metadata": {},
   "outputs": [],
   "source": [
    "# inputs"
   ]
  },
  {
   "cell_type": "code",
   "execution_count": 165,
   "metadata": {},
   "outputs": [],
   "source": [
    "outputs = [x.split(' | ')[1] for x in inputs]\n",
    "# outputs"
   ]
  },
  {
   "cell_type": "code",
   "execution_count": 172,
   "metadata": {},
   "outputs": [
    {
     "name": "stdout",
     "output_type": "stream",
     "text": [
      "Solution to part 1: 493\n"
     ]
    }
   ],
   "source": [
    "totCount = 0\n",
    "for x in outputs:\n",
    "    curline = x.split(' ')\n",
    "    for i in curline:\n",
    "        if len(i) == 2:\n",
    "            totCount = totCount + 1\n",
    "        if len(i) == 4:\n",
    "            totCount = totCount + 1\n",
    "        if len(i) == 3:\n",
    "            totCount = totCount + 1\n",
    "        if len(i) == 7:\n",
    "            totCount = totCount + 1\n",
    "\n",
    "s1 = totCount\n",
    "print(f'Solution to part 1: {totCount}')"
   ]
  },
  {
   "cell_type": "code",
   "execution_count": 167,
   "metadata": {},
   "outputs": [],
   "source": [
    "\n",
    "signal = [x.split(' | ')[0] for x in inputs]"
   ]
  },
  {
   "cell_type": "code",
   "execution_count": 168,
   "metadata": {},
   "outputs": [],
   "source": [
    "# curS\n"
   ]
  },
  {
   "cell_type": "code",
   "execution_count": 169,
   "metadata": {},
   "outputs": [],
   "source": [
    "# Part 2\n",
    "def getKey(curSignal):\n",
    "    # curS = signal[0]\n",
    "    # curS = 'acedgfb cdfbe gcdfa fbcad dab cefabd cdfgeb eafb cagedb ab'\n",
    "    unis = np.array(curS.split(' '))\n",
    "    unis = np.array(curSignal.split(' '))\n",
    "    # unis\n",
    "    # curKey = -np.ones((10,))\n",
    "    curKey = np.empty((7,),dtype=str)\n",
    "\n",
    "    lens = np.array([len(x) for x in unis])\n",
    "    pos1 = np.where(lens==2)[0][0]\n",
    "    pos7 = np.where(lens==3)[0][0]\n",
    "    pos4 = np.where(lens==4)[0][0]\n",
    "    pos8 = np.where(lens==7)[0][0]\n",
    "\n",
    "    # print(pos1,pos7)\n",
    "    # print(unis[pos1],unis[pos7])\n",
    "\n",
    "    pos1set = set(unis[pos1])\n",
    "    pos7set = set(unis[pos7])\n",
    "    pos4set = set(unis[pos4])\n",
    "    pos8set = set(unis[pos8])\n",
    "\n",
    "    # Find the top value by difference between digit 1 and 7\n",
    "    diff17 = pos1set.symmetric_difference(pos7set)\n",
    "\n",
    "    topVal = list(diff17)[0]\n",
    "    curKey[0] = topVal\n",
    "    curKey\n",
    "\n",
    "    # print(curKey)\n",
    "\n",
    "    # diff14 = pos1set.symmetric_difference(pos4set)\n",
    "    # diff14\n",
    "\n",
    "    # Digits 2,3 and 5 share top, mid and bottom. Since top is known, intersection between shared set and 4 is mid\n",
    "    len5s= unis[np.where(lens==5)[0]]\n",
    "    topmidbot = set(len5s[0]).intersection(set(len5s[1])).intersection(set(len5s[2]))\n",
    "    midval = list(pos4set.intersection(topmidbot))[0]\n",
    "    # print(midval)\n",
    "    curKey[3] = midval \n",
    "\n",
    "    keymidtop = curKey.copy()\n",
    "    # print(curKey)\n",
    "\n",
    "    # Use 1 and 4 (and the known middlevalue) to determine topleft\n",
    "    # print(pos1set.symmetric_difference(pos4set))\n",
    "    diff14 = pos1set.symmetric_difference(pos4set)\n",
    "    # diff14.intersection(set(curKey))\n",
    "    topleft = diff14.symmetric_difference(diff14.intersection(set(curKey)))\n",
    "    topleft = list(topleft)[0]\n",
    "    curKey[1] = topleft\n",
    "    # print(curKey)\n",
    "\n",
    "    # Determine bottom from top-mid-bot earlier\n",
    "    # print(topmidbot)\n",
    "    botval = list(topmidbot.symmetric_difference(set(keymidtop)))[1]\n",
    "    curKey[6] = botval\n",
    "    # print(curKey)\n",
    "\n",
    "    # everything from 5 is known, except position f\n",
    "    len5smiss = [np.array(list(set(x).symmetric_difference(set(curKey)))) for x in len5s]\n",
    "    len5slens = np.where([len(x) == 2 for x in len5smiss])[0][0]\n",
    "    len5slens\n",
    "\n",
    "    # botrightval = len5smiss[0][1]\n",
    "    botrightval = len5smiss[len5slens][1]\n",
    "    curKey[5] = botrightval\n",
    "    # print(curKey)\n",
    "\n",
    "    # len5smiss = [np.array(list(set(x).symmetric_difference(set(curKey)))) for x in len5s]\n",
    "    len5smiss = [np.array(list(set(x).difference(set(curKey)))) for x in len5s]\n",
    "    # len5slens = np.where([len(x) == 2 for x in len5smiss])[0][0]\n",
    "    # [len(x) for x in len5smiss]\n",
    "    # print(len5smiss)\n",
    "    curpos2  = np.where([len(x) == 2 for x in len5smiss])[0][0]\n",
    "    curpos3  = np.where([len(x) == 1 for x in len5smiss])[0][0]\n",
    "    uni2 = set(len5smiss[curpos2])\n",
    "    uni3 = set(len5smiss[curpos3])\n",
    "    # print(uni2)\n",
    "    # print(uni3)\n",
    "    toprightval = list(uni2.intersection(uni3))[0]\n",
    "    toprightval \n",
    "\n",
    "    curKey[2] = toprightval\n",
    "    # print(curKey)\n",
    "\n",
    "    missingVal = list(set('abcdefg').symmetric_difference(set(curKey)))[1]\n",
    "    curKey[4] = missingVal\n",
    "    # print(curKey)\n",
    "    return(curKey)\n",
    "# getKey(signal[0])\n",
    "# getKey('acedgfb cdfbe gcdfa fbcad dab cefabd cdfgeb eafb cagedb ab')"
   ]
  },
  {
   "cell_type": "code",
   "execution_count": 170,
   "metadata": {},
   "outputs": [],
   "source": [
    "\n",
    "curKey = getKey('acedgfb cdfbe gcdfa fbcad dab cefabd cdfgeb eafb cagedb ab')\n",
    "\n",
    "curOut = outputs[0]\n",
    "testoutputs = 'cdfeb fcadb cdfeb cdbaf'.split(' ')\n",
    "\n",
    "def getValue(curOut,curKey):\n",
    "    if len(curOut) == 2:\n",
    "        # print(curOut) \n",
    "        return 1\n",
    "    elif len(curOut) == 7:\n",
    "        return 8\n",
    "    elif len(curOut) == 4:\n",
    "        return 4\n",
    "    elif len(curOut) == 3:\n",
    "        return 7\n",
    "    else:\n",
    "        curLitUp = [np.where(curKey == x)[0][0] for x in curOut]\n",
    "        curLitUp.sort()\n",
    "        if (curLitUp == [0,1,3,5,6]):\n",
    "            return 5\n",
    "        elif (curLitUp == [0,1,2,4,5,6]):\n",
    "            return 0\n",
    "        elif (curLitUp == [0,2,3,4,6]):\n",
    "            return 2\n",
    "        elif (curLitUp == [0,2,3,5,6]):\n",
    "            return 3\n",
    "        elif (curLitUp == [0,1,3,4,5,6]):\n",
    "            return 6\n",
    "        elif (curLitUp == [0,1,2,3,5,6]):\n",
    "            return 9\n"
   ]
  },
  {
   "cell_type": "code",
   "execution_count": 171,
   "metadata": {},
   "outputs": [
    {
     "name": "stdout",
     "output_type": "stream",
     "text": [
      "Solution to part 2: 1010460\n"
     ]
    }
   ],
   "source": [
    "s2 = 0\n",
    "for k in range(len(signal)):\n",
    "    curS = signal[k]\n",
    "    curOut = outputs[k]\n",
    "    \n",
    "    curKey = getKey(curS)\n",
    "\n",
    "    # print(curOut) \n",
    "    thisvalue = ''\n",
    "    for thisout in curOut.split(' '):\n",
    "        curValue = getValue(thisout,curKey)\n",
    "        thisvalue = thisvalue + str(curValue)\n",
    "        # print(curValue)\n",
    "    # print(int(thisvalue))\n",
    "    s2 = s2 + int(thisvalue)\n",
    "print(f'Solution to part 2: {s2}')"
   ]
  }
 ],
 "metadata": {
  "interpreter": {
   "hash": "c72cdf52cb3d31f207bca538e9396da8706c0ecf4a3038fb1c2b317934170431"
  },
  "kernelspec": {
   "display_name": "Python 3.8.5 64-bit ('main': conda)",
   "language": "python",
   "name": "python3"
  },
  "language_info": {
   "codemirror_mode": {
    "name": "ipython",
    "version": 3
   },
   "file_extension": ".py",
   "mimetype": "text/x-python",
   "name": "python",
   "nbconvert_exporter": "python",
   "pygments_lexer": "ipython3",
   "version": "3.8.8"
  },
  "orig_nbformat": 4
 },
 "nbformat": 4,
 "nbformat_minor": 2
}
