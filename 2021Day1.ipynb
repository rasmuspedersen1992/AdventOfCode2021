{
 "cells": [
  {
   "cell_type": "code",
   "execution_count": 50,
   "metadata": {},
   "outputs": [
    {
     "name": "stdout",
     "output_type": "stream",
     "text": [
      "Done loading input\n"
     ]
    }
   ],
   "source": [
    "import numpy as np\n",
    "import pandas as pd\n",
    "# for k in range(0,24):\n",
    "#     print(f'|Day {k+1:2.0f}|&#9744;|&#9744;|') \n",
    "\n",
    "\n",
    "# Load input\n",
    "filename = 'inputs\\\\day1.txt'\n",
    "# filename = 'inputs\\\\day1test.txt'\n",
    "curIn = np.loadtxt(filename)\n",
    "\n",
    "# # Start by loading the data\n",
    "# inputFile = open(filename)\n",
    "# inputs = []\n",
    "# inputs = [s for s in inputFile.read().splitlines()]\n",
    "\n",
    "print('Done loading input')"
   ]
  },
  {
   "cell_type": "code",
   "execution_count": 58,
   "metadata": {},
   "outputs": [
    {
     "name": "stdout",
     "output_type": "stream",
     "text": [
      "Part 1 solution: 1581\n"
     ]
    }
   ],
   "source": [
    "# Part 1\n",
    "x = curIn\n",
    "sol1 = (np.sign(x[1:] - x[:-1]) >= 0).sum()\n",
    "\n",
    "print(f'Part 1 solution: {sol1}')"
   ]
  },
  {
   "cell_type": "code",
   "execution_count": 59,
   "metadata": {},
   "outputs": [
    {
     "name": "stdout",
     "output_type": "stream",
     "text": [
      "Part 2 solution: 1618\n"
     ]
    }
   ],
   "source": [
    "# Part 2\n",
    "sli = x[:-2] + x[1:-1] + x[2:]\n",
    "sol2 = (np.sign(sli[1:]-sli[:-1]) > 0).sum()\n",
    "\n",
    "print(f'Part 2 solution: {sol2}')"
   ]
  },
  {
   "cell_type": "code",
   "execution_count": 55,
   "metadata": {},
   "outputs": [
    {
     "name": "stdout",
     "output_type": "stream",
     "text": [
      "[176. 184. 188. 142. 151. 156. 157. 167. 166. 178.]\n",
      "[548. 514. 481. 449. 464. 480. 490. 511. 526. 551.]\n"
     ]
    }
   ],
   "source": [
    "print(x[:10])\n",
    "print(sli[:10])"
   ]
  },
  {
   "cell_type": "code",
   "execution_count": 56,
   "metadata": {},
   "outputs": [
    {
     "name": "stdout",
     "output_type": "stream",
     "text": [
      "[ 176.  184.  188. ... 8317. 8320. 8341.]\n",
      "[  548.   514.   481. ... 24922. 24943. 24978.]\n",
      "[-34. -33. -32. ...  13.  21.  35.]\n"
     ]
    }
   ],
   "source": [
    "print(x)\n",
    "print(sli)\n",
    "print(sli[1:]-sli[:-1])"
   ]
  }
 ],
 "metadata": {
  "interpreter": {
   "hash": "c031fd63bd977d199cd6020c30a19695eacbb638d100e0b8a5ea53080ed74a9a"
  },
  "kernelspec": {
   "display_name": "Python 3.8.8 64-bit ('main': conda)",
   "name": "python3"
  },
  "language_info": {
   "codemirror_mode": {
    "name": "ipython",
    "version": 3
   },
   "file_extension": ".py",
   "mimetype": "text/x-python",
   "name": "python",
   "nbconvert_exporter": "python",
   "pygments_lexer": "ipython3",
   "version": "3.8.8"
  },
  "orig_nbformat": 4
 },
 "nbformat": 4,
 "nbformat_minor": 2
}
