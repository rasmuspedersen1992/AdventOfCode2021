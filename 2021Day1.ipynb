{
 "cells": [
  {
   "cell_type": "code",
   "execution_count": 1,
   "source": [
    "import numpy as np\r\n",
    "# for k in range(0,24):\r\n",
    "#     print(f'|Day {k+1:2.0f}|&#9744;|&#9744;|') \r\n",
    "\r\n",
    "\r\n",
    "# Load input\r\n",
    "# filename = 'inputDay1.txt'\r\n",
    "filename = 'inputs\\\\day1test.txt'\r\n",
    "# curIn = np.loadtxt(filename)\r\n",
    "\r\n",
    "# Start by loading the data\r\n",
    "inputFile = open(filename)\r\n",
    "inputs = []\r\n",
    "inputs = [s for s in inputFile.read().splitlines()]\r\n",
    "\r\n",
    "print('Done loading input')"
   ],
   "outputs": [
    {
     "output_type": "stream",
     "name": "stdout",
     "text": [
      "Done loading input\n"
     ]
    }
   ],
   "metadata": {}
  },
  {
   "cell_type": "code",
   "execution_count": 2,
   "source": [
    "inputs"
   ],
   "outputs": [
    {
     "output_type": "execute_result",
     "data": {
      "text/plain": [
       "[]"
      ]
     },
     "metadata": {},
     "execution_count": 2
    }
   ],
   "metadata": {}
  }
 ],
 "metadata": {
  "orig_nbformat": 4,
  "language_info": {
   "name": "python",
   "version": "3.8.8",
   "mimetype": "text/x-python",
   "codemirror_mode": {
    "name": "ipython",
    "version": 3
   },
   "pygments_lexer": "ipython3",
   "nbconvert_exporter": "python",
   "file_extension": ".py"
  },
  "kernelspec": {
   "name": "python3",
   "display_name": "Python 3.8.8 64-bit ('main': conda)"
  },
  "interpreter": {
   "hash": "c031fd63bd977d199cd6020c30a19695eacbb638d100e0b8a5ea53080ed74a9a"
  }
 },
 "nbformat": 4,
 "nbformat_minor": 2
}