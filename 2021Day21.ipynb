{
 "cells": [
  {
   "cell_type": "code",
   "execution_count": 1,
   "metadata": {},
   "outputs": [],
   "source": [
    "# Import packages\n",
    "import numpy as np\n",
    "curDay = 21\n",
    "\n",
    "# # Download input file\n",
    "# from download_inputs import download_inputs\n",
    "\n",
    "# download_inputs(curDay)"
   ]
  },
  {
   "cell_type": "code",
   "execution_count": 68,
   "metadata": {},
   "outputs": [],
   "source": [
    "# # Load input into workspace\n",
    "# filename = f'inputs\\\\day{curDay}.txt'\n",
    "# # filename = f'inputs\\\\day{curDay}test.txt'\n",
    "# # curIn = np.loadtxt(filename)\n",
    "\n",
    "# # filename= 'inputs\\\\asdf.txt'\n",
    "\n",
    "# # Start by loading the data\n",
    "# inputFile = open(filename)\n",
    "# inputs = []\n",
    "# inputs = [s for s in inputFile.read().splitlines()]\n",
    "\n",
    "# print('Done loading input')\n",
    "\n",
    "p1Start = 8\n",
    "p2Start = 6\n",
    "\n",
    "# p1Start = 4\n",
    "# p2Start = 8"
   ]
  },
  {
   "cell_type": "code",
   "execution_count": 69,
   "metadata": {},
   "outputs": [
    {
     "data": {
      "text/plain": [
       "503478"
      ]
     },
     "execution_count": 69,
     "metadata": {},
     "output_type": "execute_result"
    }
   ],
   "source": [
    "# p1space = p1Start\n",
    "# p2space = p2Start\n",
    "# p1score = 0\n",
    "# p2score = 0\n",
    "\n",
    "spaces = [p1Start,p2Start]\n",
    "scores = [0,0]\n",
    "\n",
    "diceVals = np.arange(1,101)\n",
    "diceVals \n",
    "\n",
    "# maxRolls = 10\n",
    "curTurn = 0\n",
    "rollNum = 0\n",
    "\n",
    "gameNotOver = True\n",
    "curTotalTurns = 0\n",
    "\n",
    "# for k in range(maxRolls):\n",
    "while gameNotOver:\n",
    "    diceSum = 0\n",
    "    curStr = f'Player {curTurn} rolled '\n",
    "    for thisVals in range(0,3):\n",
    "        rollNum = np.mod(rollNum,100)\n",
    "        # print(diceVals[rollNum])\n",
    "        curStr = curStr + str(diceVals[rollNum])+', '\n",
    "        diceSum = diceSum + diceVals[rollNum]\n",
    "        rollNum = rollNum + 1\n",
    "        \n",
    "\n",
    "    curStr = curStr + f'which adds up to {diceSum}'\n",
    "    newSpace = np.mod(spaces[curTurn] + diceSum - 1,10) + 1\n",
    "    curStr = curStr + f', moving to {newSpace}'\n",
    "    scores[curTurn] = scores[curTurn] + newSpace\n",
    "    spaces[curTurn] = newSpace\n",
    "    \n",
    "    curStr = curStr + f', getting a total score of {scores[curTurn]}'\n",
    "    # print(curStr)\n",
    "    \n",
    "    if scores[curTurn] >= 1000:\n",
    "        gameNotOver = False\n",
    "    \n",
    "    if curTurn == 0:\n",
    "        curTurn = 1\n",
    "    else:\n",
    "        curTurn = 0\n",
    "    curTotalTurns = curTotalTurns + 1\n",
    "# print(scores[curTurn])\n",
    "losePlayerScore = scores[curTurn]\n",
    "\n",
    "s1 = 3* curTotalTurns * losePlayerScore\n",
    "s1"
   ]
  },
  {
   "cell_type": "code",
   "execution_count": null,
   "metadata": {},
   "outputs": [],
   "source": []
  },
  {
   "cell_type": "code",
   "execution_count": 46,
   "metadata": {},
   "outputs": [
    {
     "data": {
      "text/plain": [
       "6"
      ]
     },
     "execution_count": 46,
     "metadata": {},
     "output_type": "execute_result"
    }
   ],
   "source": []
  },
  {
   "cell_type": "code",
   "execution_count": null,
   "metadata": {},
   "outputs": [],
   "source": []
  }
 ],
 "metadata": {
  "interpreter": {
   "hash": "c72cdf52cb3d31f207bca538e9396da8706c0ecf4a3038fb1c2b317934170431"
  },
  "kernelspec": {
   "display_name": "Python 3.8.5 64-bit ('main': conda)",
   "language": "python",
   "name": "python3"
  },
  "language_info": {
   "codemirror_mode": {
    "name": "ipython",
    "version": 3
   },
   "file_extension": ".py",
   "mimetype": "text/x-python",
   "name": "python",
   "nbconvert_exporter": "python",
   "pygments_lexer": "ipython3",
   "version": "3.8.5"
  },
  "orig_nbformat": 4
 },
 "nbformat": 4,
 "nbformat_minor": 2
}
