{
 "cells": [
  {
   "cell_type": "code",
   "execution_count": 1,
   "metadata": {},
   "outputs": [],
   "source": [
    "# Import packages\n",
    "import numpy as np\n",
    "curDay = 12\n",
    "\n",
    "# # Download input file\n",
    "# from download_inputs import download_inputs\n",
    "\n",
    "# download_inputs(curDay)"
   ]
  },
  {
   "cell_type": "code",
   "execution_count": 2,
   "metadata": {},
   "outputs": [
    {
     "name": "stdout",
     "output_type": "stream",
     "text": [
      "Done loading input\n"
     ]
    }
   ],
   "source": [
    "# Load input into workspace\n",
    "filename = f'inputs\\\\day{curDay}.txt'\n",
    "# filename = f'inputs\\\\day{curDay}test.txt'\n",
    "# filename = f'inputs\\\\day{curDay}test2.txt'\n",
    "# curIn = np.loadtxt(filename)\n",
    "\n",
    "# filename= 'inputs\\\\asdf.txt'\n",
    "\n",
    "# Start by loading the data\n",
    "inputFile = open(filename)\n",
    "inputs = []\n",
    "inputs = [s for s in inputFile.read().splitlines()]\n",
    "\n",
    "print('Done loading input')"
   ]
  },
  {
   "cell_type": "code",
   "execution_count": 3,
   "metadata": {},
   "outputs": [],
   "source": [
    "# inputs"
   ]
  },
  {
   "cell_type": "markdown",
   "metadata": {},
   "source": [
    "# Part 1"
   ]
  },
  {
   "cell_type": "code",
   "execution_count": 4,
   "metadata": {},
   "outputs": [],
   "source": [
    "# curPos = 'start'\n",
    "\n",
    "def getConnections(curPos):\n",
    "    toReturn = []\n",
    "    for k in range(len(inputs)):\n",
    "        cl = inputs[k]\n",
    "        cs = cl.split('-')\n",
    "        if (cs[0] == curPos):\n",
    "            toReturn.append(cs[1])\n",
    "        if (cs[1] == curPos):\n",
    "            toReturn.append(cs[0])\n",
    "    return toReturn\n",
    "\n",
    "# getConnections('c')"
   ]
  },
  {
   "cell_type": "code",
   "execution_count": 5,
   "metadata": {},
   "outputs": [],
   "source": [
    "def getNextLegalSteps(curPath):\n",
    "    curPos = curPath[-1]\n",
    "\n",
    "    newPosi = getConnections(curPos)\n",
    "    # Get a list of the possible small caves\n",
    "    newPosiSmall = [x for x in newPosi if x.islower()]\n",
    "    # Get a list of the possible large caves\n",
    "    newPosiBig = [x for x in newPosi if x.isupper()]\n",
    "\n",
    "    # Check if they have not previously been visited\n",
    "    # set(newPosi).intersection(set(curPath))\n",
    "    nonVisitedSmall = [value for value in newPosiSmall if value not in curPath]\n",
    "    nonVisitedSmall\n",
    "\n",
    "    canVisit = set(nonVisitedSmall)\n",
    "    canVisit.update(set(newPosiBig))\n",
    "    canVisit = list(canVisit)\n",
    "\n",
    "    return canVisit "
   ]
  },
  {
   "cell_type": "code",
   "execution_count": 6,
   "metadata": {},
   "outputs": [
    {
     "name": "stdout",
     "output_type": "stream",
     "text": [
      "Soltion to part 1: 3000\n"
     ]
    }
   ],
   "source": [
    "totPosPath = 0\n",
    "\n",
    "def recFunc(curPath):\n",
    "    global totPosPath\n",
    "    nextSteps = getNextLegalSteps(curPath)\n",
    "    # If there a not options, return nothing?\n",
    "    # print(f'Next steps: {nextSteps}')\n",
    "    if (len(nextSteps) == 0):\n",
    "        return False\n",
    "    for m in range(len(nextSteps)):\n",
    "        # print(m)\n",
    "        thisPath = curPath.copy()\n",
    "        thisPath.append(nextSteps[m])\n",
    "        # print(thisPath)\n",
    "        # Check if end has been reached\n",
    "        if (thisPath[-1] == 'end'):\n",
    "            # print(thisPath)\n",
    "            totPosPath = totPosPath +1 \n",
    "        else:\n",
    "            recFunc(thisPath)\n",
    "\n",
    "\n",
    "curPath = ['start']\n",
    "recFunc(curPath)\n",
    "print(f'Soltion to part 1: {totPosPath}')"
   ]
  },
  {
   "cell_type": "markdown",
   "metadata": {},
   "source": [
    "# Part 2\n",
    "A single small cave can now be visited twice..."
   ]
  },
  {
   "cell_type": "code",
   "execution_count": 7,
   "metadata": {},
   "outputs": [],
   "source": [
    "def getNextLegalStepsPart2(curPath):\n",
    "    curPos = curPath[-1]\n",
    "\n",
    "    # Start by figuring out if a small cave has already been visited twice\n",
    "    doubleSmallAlready = False\n",
    "    uniInPath = np.unique(np.array(curPath))\n",
    "    # uniInPath = np.unique(np.array(pathTest))\n",
    "    for k in range(len(uniInPath)):\n",
    "        curCave = uniInPath[k]\n",
    "        timesInPath = 0\n",
    "        if curCave.islower():\n",
    "            # print(curCave)\n",
    "            for m in range(len(curPath)):\n",
    "                if (curCave == curPath[m]):\n",
    "                    # print(curCave)\n",
    "                    timesInPath = timesInPath + 1 \n",
    "        # print(timesInPath)\n",
    "        if (timesInPath > 1):\n",
    "            doubleSmallAlready = True\n",
    "    # print(doubleSmallAlready)\n",
    "\n",
    "    # Get future connections\n",
    "    newPosi = getConnections(curPos)\n",
    "    # Get a list of the possible small caves\n",
    "    newPosiSmall = [x for x in newPosi if x.islower()]\n",
    "    # Get a list of the possible large caves\n",
    "    newPosiBig = [x for x in newPosi if x.isupper()]\n",
    "\n",
    "    # In case a small cave has already been visited, do as in part 1\n",
    "    if (doubleSmallAlready):\n",
    "\n",
    "        # Check if they have not previously been visited\n",
    "        nonVisitedSmall = [value for value in newPosiSmall if value not in curPath]\n",
    "        # print(newPosiSmall)\n",
    "        # print(nonVisitedSmall)\n",
    "\n",
    "        canVisit = set(nonVisitedSmall)\n",
    "        canVisit.update(set(newPosiBig))\n",
    "        canVisit = list(canVisit)\n",
    "\n",
    "\n",
    "        return canVisit \n",
    "    else: # If a small cave has not yet been visited twice\n",
    "        # Make sure start is not visited twice\n",
    "        canVisit = []\n",
    "        for k in range(len(newPosi)):\n",
    "            if (newPosi[k] != 'start'):\n",
    "                canVisit.append(newPosi[k])\n",
    "\n",
    "\n",
    "        # canVisit = newPosi.copy()\n",
    "\n",
    "        \n",
    "        \n",
    "        # startPos = np.where(np.array(canVisit)=='start')[0]\n",
    "        # # print(startPos)\n",
    "        # if (len(startPos) > 0):\n",
    "        #     print(startPos)\n",
    "        #     canVisit.pop(startPos[0])\n",
    "        return canVisit\n",
    "\n",
    "\n",
    "# # pathTest = 'start,b,A,c,A'.split(',')\n",
    "# # pathTest = ['start', 'A', 'c', 'A', 'c', 'A']\n",
    "# # pathTest = ['start', 'A', 'c', 'A', 'b', 'A', 'b', 'A', 'b', 'A']\n",
    "# # pathTest = ['start', 'A', 'c', 'A', 'b', 'A', 'b', 'A']\n",
    "# # getNextLegalStepsPart2(pathTest)\n",
    "# pathTest = ['start', 'HN', 'dc', 'HN', 'dc','HN']\n",
    "# pathTest = ['start', 'HN', 'dc', 'HN', 'dc', 'kj']\n",
    "# pathTest = ['start', 'HN', 'dc', 'HN', 'kj', 'sa', 'kj', 'sa'] #, next steps: ['kj'].\n",
    "# # pathTest = ['start', 'we', 'NX'] # next steps: ['we', 'yq', 'px', 'pr', 'oe']\n",
    "# pathTest = ['start', 'wq', 'ys', 'pr', 'ys', 'pr', 'ys', 'px']\n",
    "# # getNextLegalStepsPart2(pathTest)\n",
    "# pathTest = ['start', 'A', 'c', 'A', 'c', 'A', 'c', 'A']\n",
    "# getNextLegalStepsPart2(pathTest)\n",
    "# pathTest = ['start', 'A', 'c', 'A', 'b', 'A', 'b', 'A'] #, next steps: ['c', 'b', 'end']. Tot: 4\n",
    "# getNextLegalStepsPart2(pathTest)"
   ]
  },
  {
   "cell_type": "code",
   "execution_count": 10,
   "metadata": {},
   "outputs": [
    {
     "name": "stdout",
     "output_type": "stream",
     "text": [
      "Solution to part 2: 74222\n"
     ]
    }
   ],
   "source": [
    "totPosPath = 0\n",
    "\n",
    "def recFunc3(curPath,treeDepth):\n",
    "    global totPosPath\n",
    "    nextSteps = getNextLegalStepsPart2(curPath)\n",
    "    # If there a not options, return nothing?\n",
    "    # print(curPath)\n",
    "    # print(f'From {curPath} , next steps: {nextSteps}. Tot: {totPosPath}')\n",
    "    if (len(nextSteps) == 0):\n",
    "        return False\n",
    "    for m in range(len(nextSteps)):\n",
    "        # print(m)\n",
    "        thisPath = curPath.copy()\n",
    "        thisPath.append(nextSteps[m])\n",
    "\n",
    "        # Check if end has been reached\n",
    "        if (thisPath[-1] == 'end'):\n",
    "            # print(thisPath)\n",
    "            totPosPath = totPosPath +1 \n",
    "        else:\n",
    "            if (treeDepth > 0):\n",
    "                recFunc3(thisPath,treeDepth-1)\n",
    "            # else:\n",
    "            #     print(thisPath)\n",
    "\n",
    "\n",
    "recFunc3(['start'],20)\n",
    "print(f'Solution to part 2: {totPosPath}')"
   ]
  },
  {
   "cell_type": "markdown",
   "metadata": {},
   "source": [
    "# Old below"
   ]
  },
  {
   "cell_type": "code",
   "execution_count": 11,
   "metadata": {},
   "outputs": [],
   "source": [
    "# totPosPath\n",
    "\n",
    "# # getNextLegalStepsPart2(curPath)"
   ]
  },
  {
   "cell_type": "code",
   "execution_count": 12,
   "metadata": {},
   "outputs": [],
   "source": [
    "# canVisit = pathTest.copy()\n",
    "# startPos = np.where(np.array(canVisit)=='start')[0][0]\n",
    "# canVisit.pop(startPos)\n",
    "# startPos = np.where(np.array(canVisit)=='start')[0][0]\n",
    "# canVisit.pop(startPos)\n",
    "# canVisit\n",
    "# pathTest[1:]"
   ]
  },
  {
   "cell_type": "code",
   "execution_count": 13,
   "metadata": {},
   "outputs": [],
   "source": [
    "# curPath = []\n",
    "# curPos = 'start'\n",
    "# curPath.append(curPos)\n",
    "# print(curPath)\n",
    "\n",
    "# treeDepth = 2\n",
    "# allPaths = []\n",
    "# for k in range(treeDepth):\n",
    "#     nextSteps = getNextLegalSteps(curPath)\n",
    "#     for m in range(len(nextSteps)):\n",
    "#         thisPath = curPath.copy()\n",
    "#         thisPath.append(nextSteps[m])\n",
    "#         print(thisPath)\n",
    "        \n"
   ]
  },
  {
   "cell_type": "code",
   "execution_count": 14,
   "metadata": {},
   "outputs": [],
   "source": [
    "# curPath = []\n",
    "# curPos = 'start'\n",
    "# curPath.append(curPos)\n",
    "# newPosi = getConnections(curPos)\n",
    "# canVisit = newPosi.copy()\n",
    "\n",
    "# # for each value in possible connection?\n",
    "# for k in range(len(canVisit)):\n",
    "#     nextPos = canVisit[k]\n",
    "#     curPath.append(nextPos)\n",
    "#     print(curPath)\n",
    "#     newPosi = getConnections(nextPos)\n",
    "\n",
    "#     # Get a list of the possible small caves\n",
    "#     newPosiSmall = [x for x in newPosi if x.islower()]\n",
    "#     # Get a list of the possible large caves\n",
    "#     newPosiBig = [x for x in newPosi if x.isupper()]\n",
    "\n",
    "#     # Check if they have not previously been visited\n",
    "#     # set(newPosi).intersection(set(curPath))\n",
    "#     nonVisitedSmall = [value for value in newPosiSmall if value not in curPath]\n",
    "#     nonVisitedSmall\n",
    "\n",
    "#     canVisit = set(nonVisitedSmall)\n",
    "#     canVisit.update(set(newPosiBig))\n",
    "#     canVisit = list(canVisit)\n",
    "\n",
    "\n",
    "\n",
    "\n",
    "# # newPosi[newPosiSmall]"
   ]
  }
 ],
 "metadata": {
  "interpreter": {
   "hash": "c031fd63bd977d199cd6020c30a19695eacbb638d100e0b8a5ea53080ed74a9a"
  },
  "kernelspec": {
   "display_name": "Python 3.8.12 64-bit ('main': conda)",
   "language": "python",
   "name": "python3"
  },
  "language_info": {
   "codemirror_mode": {
    "name": "ipython",
    "version": 3
   },
   "file_extension": ".py",
   "mimetype": "text/x-python",
   "name": "python",
   "nbconvert_exporter": "python",
   "pygments_lexer": "ipython3",
   "version": "3.6.5"
  },
  "orig_nbformat": 4
 },
 "nbformat": 4,
 "nbformat_minor": 2
}
