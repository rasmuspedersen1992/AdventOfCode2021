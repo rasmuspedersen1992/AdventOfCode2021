{
 "cells": [
  {
   "cell_type": "code",
   "execution_count": 75,
   "metadata": {},
   "outputs": [],
   "source": [
    "# Import packages\n",
    "import numpy as np\n",
    "\n",
    "# # Download input file\n",
    "# from download_inputs import download_inputs\n",
    "\n",
    "# curDay = 5\n",
    "\n",
    "# download_inputs(curDay)"
   ]
  },
  {
   "cell_type": "code",
   "execution_count": 76,
   "metadata": {},
   "outputs": [
    {
     "name": "stdout",
     "output_type": "stream",
     "text": [
      "Done loading input\n"
     ]
    }
   ],
   "source": [
    "# Load input into workspace\n",
    "filename = f'inputs\\\\day{curDay}.txt'\n",
    "# filename = f'inputs\\\\day{curDay}test.txt'\n",
    "# curIn = np.loadtxt(filename)\n",
    "\n",
    "# Start by loading the data\n",
    "inputFile = open(filename)\n",
    "inputs = []\n",
    "inputs = [s for s in inputFile.read().splitlines()]\n",
    "\n",
    "print('Done loading input')"
   ]
  },
  {
   "cell_type": "code",
   "execution_count": 77,
   "metadata": {},
   "outputs": [],
   "source": [
    "# inputs"
   ]
  },
  {
   "cell_type": "code",
   "execution_count": 78,
   "metadata": {},
   "outputs": [
    {
     "name": "stdout",
     "output_type": "stream",
     "text": [
      "Current maximums: x=990 anc y=989\n"
     ]
    }
   ],
   "source": [
    "# Find max x and max y\n",
    "lin = len(inputs)\n",
    "curMaxX = 0\n",
    "curMaxY = 0\n",
    "for k in range(lin):\n",
    "    curin = inputs[k].split(' -> ')\n",
    "\n",
    "    x1,y1 = curin[0].split(',')\n",
    "    x2,y2 = curin[1].split(',')\n",
    "\n",
    "    x1 = int(x1)\n",
    "    y1 = int(y1)\n",
    "    x2 = int(x2)\n",
    "    y2 = int(y2)\n",
    "\n",
    "    if (x1 > curMaxX):\n",
    "        curMaxX = x1\n",
    "    if (x2 > curMaxX):\n",
    "        curMaxX = x2\n",
    "    if (y1 > curMaxY):\n",
    "        curMaxY = y1\n",
    "    if (y2 > curMaxY):\n",
    "        curMaxY = y2\n",
    "\n",
    "print(f'Current maximums: x={curMaxX} anc y={curMaxY}')"
   ]
  },
  {
   "cell_type": "code",
   "execution_count": 79,
   "metadata": {},
   "outputs": [
    {
     "name": "stdout",
     "output_type": "stream",
     "text": [
      "Solution to part 1: 5167\n"
     ]
    }
   ],
   "source": [
    "grid = np.zeros((curMaxX+1,curMaxY+1))\n",
    "\n",
    "for k in range(lin):\n",
    "    curin = inputs[k].split(' -> ')\n",
    "\n",
    "    x1,y1 = curin[0].split(',')\n",
    "    x2,y2 = curin[1].split(',')\n",
    "\n",
    "    x1 = int(x1)\n",
    "    y1 = int(y1)\n",
    "    x2 = int(x2)\n",
    "    y2 = int(y2)\n",
    "\n",
    "    # Horizontal\n",
    "    if (x1 == x2):\n",
    "        maxy = np.max([y1,y2])\n",
    "        miny = np.min([y1,y2])\n",
    "        for thisy in range(miny,maxy+1):\n",
    "            grid[x1,thisy] = grid[x1,thisy] + 1\n",
    "        \n",
    "    # Vertical\n",
    "    if (y1 == y2):\n",
    "        maxx = np.max([x1,x2])\n",
    "        minx = np.min([x1,x2])\n",
    "        for thisx in range(minx,maxx+1):\n",
    "            grid[thisx,y1] = grid[thisx,y1] + 1\n",
    "\n",
    "s1 = (grid >=2).sum()\n",
    "print(f'Solution to part 1: {s1}')"
   ]
  },
  {
   "cell_type": "code",
   "execution_count": 81,
   "metadata": {},
   "outputs": [
    {
     "name": "stdout",
     "output_type": "stream",
     "text": [
      "Solution to part 2: 17604\n"
     ]
    }
   ],
   "source": [
    "grid = np.zeros((curMaxX+1,curMaxY+1))\n",
    "\n",
    "for k in range(lin):\n",
    "    curin = inputs[k].split(' -> ')\n",
    "\n",
    "    x1,y1 = curin[0].split(',')\n",
    "    x2,y2 = curin[1].split(',')\n",
    "\n",
    "    x1 = int(x1)\n",
    "    y1 = int(y1)\n",
    "    x2 = int(x2)\n",
    "    y2 = int(y2)\n",
    "\n",
    "    if (x1 == x2):\n",
    "        maxy = np.max([y1,y2])\n",
    "        miny = np.min([y1,y2])\n",
    "        for thisy in range(miny,maxy+1):\n",
    "            grid[x1,thisy] = grid[x1,thisy] + 1\n",
    "    elif (y1 == y2):\n",
    "        maxx = np.max([x1,x2])\n",
    "        minx = np.min([x1,x2])\n",
    "        for thisx in range(minx,maxx+1):\n",
    "            grid[thisx,y1] = grid[thisx,y1] + 1\n",
    "    else:\n",
    "        # This must be diagonal case\n",
    "        xdiff = x2-x1\n",
    "        ydiff = y2-y1\n",
    "\n",
    "        numChange = np.abs(xdiff)\n",
    "        signx = np.sign(xdiff)\n",
    "        signy = np.sign(ydiff)\n",
    "        for j in range(numChange+1):\n",
    "            curx = x1 + signx * j\n",
    "            cury = y1 + signy * j\n",
    "            grid[curx,cury] = grid[curx,cury] + 1\n",
    "\n",
    "\n",
    "s2 = (grid >=2).sum()\n",
    "print(f'Solution to part 2: {s2}')"
   ]
  }
 ],
 "metadata": {
  "interpreter": {
   "hash": "c031fd63bd977d199cd6020c30a19695eacbb638d100e0b8a5ea53080ed74a9a"
  },
  "kernelspec": {
   "display_name": "Python 3.8.8 64-bit ('main': conda)",
   "language": "python",
   "name": "python3"
  },
  "language_info": {
   "codemirror_mode": {
    "name": "ipython",
    "version": 3
   },
   "file_extension": ".py",
   "mimetype": "text/x-python",
   "name": "python",
   "nbconvert_exporter": "python",
   "pygments_lexer": "ipython3",
   "version": "3.8.8"
  },
  "orig_nbformat": 4
 },
 "nbformat": 4,
 "nbformat_minor": 2
}
