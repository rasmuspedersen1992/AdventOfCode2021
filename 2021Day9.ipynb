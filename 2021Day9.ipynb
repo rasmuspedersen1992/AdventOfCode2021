{
 "cells": [
  {
   "cell_type": "code",
   "execution_count": 122,
   "metadata": {},
   "outputs": [],
   "source": [
    "# Import packages\n",
    "import numpy as np\n",
    "curDay = 9\n",
    "\n",
    "# # Download input file\n",
    "# from download_inputs import download_inputs\n",
    "\n",
    "# download_inputs(curDay)"
   ]
  },
  {
   "cell_type": "code",
   "execution_count": 123,
   "metadata": {},
   "outputs": [
    {
     "name": "stdout",
     "output_type": "stream",
     "text": [
      "Done loading input\n"
     ]
    }
   ],
   "source": [
    "# Load input into workspace\n",
    "filename = f'inputs\\\\day{curDay}.txt'\n",
    "# filename = f'inputs\\\\day{curDay}test.txt'\n",
    "# curIn = np.loadtxt(filename)\n",
    "\n",
    "# filename= 'inputs\\\\asdf.txt'\n",
    "\n",
    "# Start by loading the data\n",
    "inputFile = open(filename)\n",
    "inputs = []\n",
    "inputs = [s for s in inputFile.read().splitlines()]\n",
    "\n",
    "print('Done loading input')"
   ]
  },
  {
   "cell_type": "code",
   "execution_count": 131,
   "metadata": {},
   "outputs": [],
   "source": [
    "# inputs"
   ]
  },
  {
   "cell_type": "code",
   "execution_count": 125,
   "metadata": {},
   "outputs": [
    {
     "name": "stdout",
     "output_type": "stream",
     "text": [
      "Solution for part 1: 560\n"
     ]
    }
   ],
   "source": [
    "# Part 1\n",
    "he = len(inputs)\n",
    "wi = len(inputs[0])\n",
    "\n",
    "lowPoints = np.zeros((he,wi))\n",
    "\n",
    "totRisk = 0\n",
    "\n",
    "for y in range(he):\n",
    "    curRow = inputs[y]\n",
    "    \n",
    "    for x in range(wi):\n",
    "        curVal = int(inputs[y][x])\n",
    "        \n",
    "        thisHigherNei = 0\n",
    "        thisNumNei = 0\n",
    "        # Check sides\n",
    "        if (x < wi -1):\n",
    "            curNe = int(inputs[y][x+1])\n",
    "            thisNumNei = thisNumNei + 1 \n",
    "            if (curNe > curVal):\n",
    "                thisHigherNei = thisHigherNei + 1\n",
    "                \n",
    "        if (x > 0):\n",
    "            curNe = int(inputs[y][x-1])\n",
    "            thisNumNei = thisNumNei + 1 \n",
    "            if (curNe > curVal):\n",
    "                thisHigherNei = thisHigherNei + 1\n",
    "                \n",
    "        if (y < he -1):\n",
    "            curNe = int(inputs[y+1][x])\n",
    "            thisNumNei = thisNumNei + 1 \n",
    "            if (curNe > curVal):\n",
    "                thisHigherNei = thisHigherNei + 1\n",
    "                \n",
    "        if (y > 0):\n",
    "            curNe = int(inputs[y-1][x])\n",
    "            thisNumNei = thisNumNei + 1 \n",
    "            if (curNe > curVal):\n",
    "                thisHigherNei = thisHigherNei + 1\n",
    "\n",
    "        if (thisHigherNei == thisNumNei):\n",
    "            lowPoints[y,x] = 1\n",
    "            totRisk = totRisk + curVal + 1\n",
    "            \n",
    "s1 = totRisk\n",
    "\n",
    "print(f'Solution for part 1: {s1}')"
   ]
  },
  {
   "cell_type": "code",
   "execution_count": 132,
   "metadata": {},
   "outputs": [],
   "source": [
    "def getNeiVals(inputs,x,y):\n",
    "    curVal = int(inputs[y][x])\n",
    "    valsToAdd = []\n",
    "    \n",
    "    # Check sides\n",
    "    if (x < wi -1):\n",
    "        curNe = int(inputs[y][x+1])\n",
    "        if (curNe < 9):\n",
    "            if (curNe > curVal):\n",
    "                valsToAdd.append([x+1,y])\n",
    "            \n",
    "    if (x > 0):\n",
    "        curNe = int(inputs[y][x-1])\n",
    "        if (curNe < 9):\n",
    "            if (curNe > curVal):\n",
    "                valsToAdd.append([x-1,y])\n",
    "            \n",
    "    if (y < he -1):\n",
    "        curNe = int(inputs[y+1][x])\n",
    "        if (curNe < 9):\n",
    "            if (curNe > curVal):\n",
    "                valsToAdd.append([x,y+1])\n",
    "            \n",
    "    if (y > 0):\n",
    "        curNe = int(inputs[y-1][x])\n",
    "        if (curNe < 9):\n",
    "            if (curNe > curVal):\n",
    "                valsToAdd.append([x,y-1])\n",
    "\n",
    "    return valsToAdd\n",
    "\n",
    "# getNeiVals(inputs,0,0)"
   ]
  },
  {
   "cell_type": "code",
   "execution_count": 130,
   "metadata": {},
   "outputs": [
    {
     "name": "stdout",
     "output_type": "stream",
     "text": [
      "Solution to part 2: 959136\n"
     ]
    }
   ],
   "source": [
    "# Part 2: Find basins around lowpoints\n",
    "basinSizes = []\n",
    "\n",
    "for y in range(he):\n",
    "    curRow = inputs[y]\n",
    "    for x in range(wi):\n",
    "        if (lowPoints[y,x] == 0):\n",
    "            continue\n",
    "\n",
    "        curVal = int(inputs[y][x])\n",
    "\n",
    "        curBasin = [[x,y]]\n",
    "\n",
    "        toBeChecked = getNeiVals(inputs,x,y)\n",
    "\n",
    "        numIter = 50\n",
    "        for k in range(numIter):\n",
    "            for curToCheck in toBeChecked:\n",
    "                neisToAdd = getNeiVals(inputs,curToCheck[0],curToCheck[1])\n",
    "                for n in neisToAdd:\n",
    "                    toBeChecked.append(n)\n",
    "            \n",
    "            for n in toBeChecked:\n",
    "                curBasin.append(n)\n",
    "            toBeChecked = []\n",
    "\n",
    "        uniBasin = list(set(tuple(element) for element in curBasin))\n",
    "        basinSizes.append(len(uniBasin))\n",
    "\n",
    "\n",
    "        \n",
    "        \n",
    "sizeOfLargestThreeBasins = np.sort(np.array(basinSizes))[-3:]\n",
    "\n",
    "\n",
    "s2 = sizeOfLargestThreeBasins[0] * sizeOfLargestThreeBasins[1] * sizeOfLargestThreeBasins[2]\n",
    "print(f'Solution to part 2: {s2}')"
   ]
  }
 ],
 "metadata": {
  "interpreter": {
   "hash": "c031fd63bd977d199cd6020c30a19695eacbb638d100e0b8a5ea53080ed74a9a"
  },
  "kernelspec": {
   "display_name": "Python 3.8.8 64-bit ('main': conda)",
   "language": "python",
   "name": "python3"
  },
  "language_info": {
   "codemirror_mode": {
    "name": "ipython",
    "version": 3
   },
   "file_extension": ".py",
   "mimetype": "text/x-python",
   "name": "python",
   "nbconvert_exporter": "python",
   "pygments_lexer": "ipython3",
   "version": "3.8.8"
  },
  "orig_nbformat": 4
 },
 "nbformat": 4,
 "nbformat_minor": 2
}
