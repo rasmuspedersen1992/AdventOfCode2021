{
 "cells": [
  {
   "cell_type": "code",
   "execution_count": 306,
   "metadata": {},
   "outputs": [],
   "source": [
    "# Import packages\n",
    "import numpy as np\n",
    "curDay = 6\n",
    "\n",
    "# # Download input file\n",
    "# from download_inputs import download_inputs\n",
    "\n",
    "# download_inputs(curDay)"
   ]
  },
  {
   "cell_type": "code",
   "execution_count": 307,
   "metadata": {},
   "outputs": [
    {
     "name": "stdout",
     "output_type": "stream",
     "text": [
      "Done loading input\n"
     ]
    }
   ],
   "source": [
    "# Load input into workspace\n",
    "filename = f'inputs\\\\day{curDay}.txt'\n",
    "# filename = f'inputs\\\\day{curDay}test.txt'\n",
    "# curIn = np.loadtxt(filename)\n",
    "\n",
    "# filename= 'inputs\\\\asdf.txt'\n",
    "\n",
    "# Start by loading the data\n",
    "inputFile = open(filename)\n",
    "inputs = []\n",
    "inputs = [s for s in inputFile.read().splitlines()]\n",
    "\n",
    "print('Done loading input')"
   ]
  },
  {
   "cell_type": "code",
   "execution_count": 308,
   "metadata": {},
   "outputs": [],
   "source": [
    "# inputs"
   ]
  },
  {
   "cell_type": "code",
   "execution_count": 309,
   "metadata": {},
   "outputs": [],
   "source": [
    "iniList = [int(x) for x in inputs[0].split(',')]"
   ]
  },
  {
   "cell_type": "code",
   "execution_count": 310,
   "metadata": {},
   "outputs": [
    {
     "name": "stdout",
     "output_type": "stream",
     "text": [
      "Part 1 solution: 373378\n"
     ]
    }
   ],
   "source": [
    "numDays = 80\n",
    "\n",
    "curList = iniList.copy()\n",
    "for k in range(numDays):\n",
    "    # print(curList)\n",
    "    for j in range(len(curList)):\n",
    "        thisNum = curList[j]\n",
    "        if (thisNum == 0):\n",
    "            curList.append(8)\n",
    "            curList[j] = 6\n",
    "        else:\n",
    "            curList[j] = curList[j] - 1\n",
    "\n",
    "s1 = len(curList)\n",
    "print(f'Part 1 solution: {s1}')"
   ]
  },
  {
   "cell_type": "code",
   "execution_count": 311,
   "metadata": {},
   "outputs": [],
   "source": [
    "# numDays = 18\n",
    "\n",
    "# curList = iniList.copy()\n",
    "# for k in range(numDays):\n",
    "#     posAge = np.arange(0,9)\n",
    "#     curCounts = np.zeros((9,))\n",
    "#     for m in posAge:\n",
    "#         curCounts[m] = np.count_nonzero(curList ==posAge[m])\n",
    "#     print(curCounts)\n",
    "#     # print(curList)\n",
    "#     for j in range(len(curList)):\n",
    "#         thisNum = curList[j]\n",
    "#         if (thisNum == 0):\n",
    "#             curList.append(8)\n",
    "#             curList[j] = 6\n",
    "#         else:\n",
    "#             curList[j] = curList[j] - 1\n",
    "#     # print(k)\n",
    "#     # print(np.array([curList.count(0),curList.count(1),curList.count(2),curList.count(3),curList.count(4),curList.count(56),curList.count(6)]))\n",
    "    \n",
    "# # curCounts = np.zeros((9,))\n",
    "# # for m in posAge:\n",
    "# #     curCounts[m] = np.count_nonzero(curList ==posAge[m])   \n",
    "    \n",
    "\n",
    "# print(len(curList))\n",
    "# print(curCounts.sum())"
   ]
  },
  {
   "cell_type": "code",
   "execution_count": 312,
   "metadata": {},
   "outputs": [
    {
     "name": "stdout",
     "output_type": "stream",
     "text": [
      "Part 2 solution: 1682576647495\n"
     ]
    }
   ],
   "source": [
    "curList = np.array(iniList.copy())\n",
    "\n",
    "posAge = np.arange(0,9)\n",
    "curCounts = np.zeros((9,))\n",
    "for k in posAge:\n",
    "    curCounts[k] = np.count_nonzero(curList ==posAge[k])\n",
    "for j in range(256):\n",
    "    curFish = curCounts[0]\n",
    "    curCounts[7] = curCounts[7] + curFish\n",
    "    curCounts = np.roll(curCounts,-1)\n",
    "    # print(curCounts)\n",
    "\n",
    "s2 = int(curCounts.sum())\n",
    "print(f'Part 2 solution: {s2}')"
   ]
  },
  {
   "cell_type": "markdown",
   "metadata": {},
   "source": [
    "# Graveyard of bad ideas:"
   ]
  },
  {
   "cell_type": "code",
   "execution_count": 313,
   "metadata": {},
   "outputs": [],
   "source": [
    "# numDays = 256\n",
    "\n",
    "# curList = iniList.copy()\n",
    "\n",
    "\n",
    "# # for k in range(numDays):\n",
    "# #     # print(curList)\n",
    "# #     for j in range(len(curList)):\n",
    "# #         thisNum = curList[j]\n",
    "# #         if (thisNum == 0):\n",
    "# #             curList.append(8)\n",
    "# #             curList[j] = 6\n",
    "# #         else:\n",
    "# #             curList[j] = curList[j] - 1\n",
    "\n",
    "# # Idea: Find out which \"week\"day that each fish add a new\n",
    "# updateList = np.zeros((7,))\n",
    "# for j in range(len(curList)):\n",
    "#     curNum = int(curList[j])\n",
    "#     updateList[curNum] = updateList[curNum] + 1\n",
    "# # print(updateList)\n",
    "\n",
    "# # Growth of each weekday can be calculated seperately\n",
    "# curDay = 18\n",
    "\n",
    "# # toAddNextWeek = np.zeros((7,))\n",
    "# # for k in range(numDays):\n",
    "# #     curWeekDay = np.mod(k,7)\n",
    "# #     toIncrease = np.mod(curWeekDay + 2,7)\n",
    "# #     if (curWeekDay == 0):\n",
    "# #         print(updateList)\n",
    "# #         print(toAddNextWeek)\n",
    "\n",
    "# #     thisCount = int(updateList[curWeekDay])\n",
    "# #     print(f'Weekday {curWeekDay}, births count on: {toIncrease}, This count: {thisCount}')\n",
    "\n",
    "# #     toAddNextWeek[toIncrease] = thisCount\n",
    "# #     # print(toAddNextWeek)\n",
    "\n",
    "# #     # Add last weeks birth on this day\n",
    "# #     updateList[curWeekDay] = updateList[curWeekDay] + toAddNextWeek[curWeekDay]\n",
    "# #     toAddNextWeek[curWeekDay] = 0\n",
    "\n",
    "# # updateList\n",
    "\n",
    "# # finCounts = np.zeros((7,))\n",
    "# # for j in range(7):\n",
    "# #     numWeeksPassed = (curDay-j)//7\n",
    "# #     thisCount = int(updateList[j])\n",
    "# #     for m in range(numWeeksPassed):\n",
    "# #         thisCount = thisCount \n",
    "# #     thisCount\n",
    "# #     print(thisCount)\n",
    "# #     finCounts[j] = thisCount\n",
    "# # int(finCounts.sum())\n",
    "\n",
    "# # One week at a time\n",
    "# # numWeeksToMove = 2\n",
    "# numWeeksToMove = (80-7)//7\n",
    "# for j in range(numWeeksToMove):\n",
    "#     toAdd = np.roll(updateList,2)\n",
    "#     updateList = updateList + toAdd\n",
    "# updateList.sum()"
   ]
  },
  {
   "cell_type": "code",
   "execution_count": 314,
   "metadata": {},
   "outputs": [],
   "source": [
    "# # updateList.sum() + toAdd[0]\n",
    "# thisSum = updateList.sum()\n",
    "\n",
    "# for k in range(5):\n",
    "#     thisSum = thisSum + toAdd[(k+8)//7]\n",
    "#     print(thisSum)\n",
    "\n",
    "# print(toAdd)\n",
    "# print(updateList)"
   ]
  },
  {
   "cell_type": "code",
   "execution_count": 315,
   "metadata": {},
   "outputs": [],
   "source": [
    "# numDays = 14\n",
    "\n",
    "# curList = iniList.copy()\n",
    "# for k in range(numDays):\n",
    "#     # print(curList)\n",
    "#     for j in range(len(curList)):\n",
    "#         thisNum = curList[j]\n",
    "#         if (thisNum == 0):\n",
    "#             curList.append(8)\n",
    "#             curList[j] = 6\n",
    "#         else:\n",
    "#             curList[j] = curList[j] - 1\n",
    "#     # print(k)\n",
    "#     # print(np.array([curList.count(0),curList.count(1),curList.count(2),curList.count(3),curList.count(4),curList.count(56),curList.count(6)]))\n",
    "\n",
    "# # print(np.array([curList.count(0),curList.count(1),curList.count(2),curList.count(3),curList.count(4),curList.count(56),curList.count(6)]))\n",
    "#     # unis,testCount = np.unique(np.array(curList), return_counts=True)\n",
    "#     # print(unis,testCount)\n",
    "\n",
    "# print(len(curList))\n",
    "\n",
    "# # np.find(curList == 8)\n",
    "# # np.unique(curList, return_counts=True)\n",
    "# print(curList)\n",
    "# curList = np.array(curList)\n",
    "# curList[np.where(curList == 8)] = 2\n",
    "# curList[np.where(curList == 7)] = 1\n",
    "# unis,testCount = np.unique(curList, return_counts=True)\n",
    "# print(unis)\n",
    "# print(testCount)\n",
    "# testCount.sum()"
   ]
  },
  {
   "cell_type": "code",
   "execution_count": 316,
   "metadata": {},
   "outputs": [],
   "source": [
    "# # updateList\n",
    "\n",
    "# # # One week at a time\n",
    "\n",
    "# # numWeeksToMove = 1 \n",
    "# # for j in range(numWeeksToMove):\n",
    "# #     toAdd = np.roll(updateList,2)\n",
    "# #     updateList = updateList + toAdd\n",
    "# # updateList\n",
    "# np.unique(np.array([3,4,3,1,2,3,4,5,5,6,3,4,5,5,5,6,6,7,7,8]), return_counts=True)"
   ]
  },
  {
   "cell_type": "code",
   "execution_count": 317,
   "metadata": {},
   "outputs": [],
   "source": [
    "# len(np.array([3,4,3,1,2,3,4,5,5,6,3,4,5,5,5,6,6,7,7,8]))"
   ]
  }
 ],
 "metadata": {
  "interpreter": {
   "hash": "c031fd63bd977d199cd6020c30a19695eacbb638d100e0b8a5ea53080ed74a9a"
  },
  "kernelspec": {
   "display_name": "Python 3.8.8 64-bit ('main': conda)",
   "language": "python",
   "name": "python3"
  },
  "language_info": {
   "codemirror_mode": {
    "name": "ipython",
    "version": 3
   },
   "file_extension": ".py",
   "mimetype": "text/x-python",
   "name": "python",
   "nbconvert_exporter": "python",
   "pygments_lexer": "ipython3",
   "version": "3.8.8"
  },
  "orig_nbformat": 4
 },
 "nbformat": 4,
 "nbformat_minor": 2
}
