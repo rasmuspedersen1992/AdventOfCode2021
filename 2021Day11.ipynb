{
 "cells": [
  {
   "cell_type": "code",
   "execution_count": 94,
   "metadata": {},
   "outputs": [],
   "source": [
    "# Import packages\n",
    "import numpy as np\n",
    "curDay = 11\n",
    "\n",
    "# # Download input file\n",
    "# from download_inputs import download_inputs\n",
    "\n",
    "# download_inputs(curDay)"
   ]
  },
  {
   "cell_type": "code",
   "execution_count": 95,
   "metadata": {},
   "outputs": [
    {
     "name": "stdout",
     "output_type": "stream",
     "text": [
      "Done loading input\n"
     ]
    }
   ],
   "source": [
    "# Load input into workspace\n",
    "filename = f'inputs\\\\day{curDay}.txt'\n",
    "# filename = f'inputs\\\\day{curDay}test.txt'\n",
    "curIn = np.loadtxt(filename)\n",
    "\n",
    "# filename= 'inputs\\\\asdf.txt'\n",
    "\n",
    "# Start by loading the data\n",
    "inputFile = open(filename)\n",
    "inputs = []\n",
    "inputs = [s for s in inputFile.read().splitlines()]\n",
    "\n",
    "print('Done loading input')"
   ]
  },
  {
   "cell_type": "code",
   "execution_count": 96,
   "metadata": {},
   "outputs": [
    {
     "data": {
      "text/plain": [
       "array(['2682551651', '3223134263', '5848471412', '7438334862',\n",
       "       '8731321573', '6415233574', '5564726843', '6683456445',\n",
       "       '8582346112', '4617588236'], dtype='<U10')"
      ]
     },
     "execution_count": 96,
     "metadata": {},
     "output_type": "execute_result"
    }
   ],
   "source": [
    "cArr = np.array(inputs)\n",
    "cArr"
   ]
  },
  {
   "cell_type": "markdown",
   "metadata": {},
   "source": [
    "# Part 1"
   ]
  },
  {
   "cell_type": "code",
   "execution_count": null,
   "metadata": {},
   "outputs": [],
   "source": []
  },
  {
   "cell_type": "code",
   "execution_count": 97,
   "metadata": {},
   "outputs": [],
   "source": [
    "\n",
    "# np.array(arr[0])\n",
    "he = len(inputs)\n",
    "wi = len(inputs[0])\n",
    "\n",
    "cArr = []\n",
    "for y in range(he):\n",
    "    cRow = inputs[y]\n",
    "    nRow = []\n",
    "    for x in range(wi):\n",
    "        curVal = cRow[x]\n",
    "        nRow.append(int(curVal))\n",
    "    cArr.append(nRow)\n",
    "cArr = np.array(cArr)\n",
    "\n",
    "\n",
    "def addOne(curArray):\n",
    "    \n",
    "    he = len(curArray)\n",
    "    wi = len(curArray[0])\n",
    "    # Add one to all\n",
    "    for y in range(he):\n",
    "        # cRow = cArr[y]\n",
    "        for x in range(wi):\n",
    "            # curVal = cRow[x]\n",
    "            curArray[y][x] = curArray[y][x] + 1\n",
    "    return curArray\n",
    "\n",
    "# def expCell(curArray,x,y):\n",
    "#     he = len(curArray)\n",
    "#     wi = len(curArray[0])\n",
    "#     if (curArray[y][x] > 9):\n",
    "#     if (y > 0):\n",
    "#         curArray[y-1][x] = curArray[y-1][x] + 1\n",
    "#     if (y < (he-1)):\n",
    "#         curArray[y+1][x] = curArray[y+1][x] + 1\n",
    "#     if (x > 0):\n",
    "#         curArray[y][x-1] = curArray[y][x-1] + 1\n",
    "#     if (x < (wi - 1)):\n",
    "#         curArray[y][x+1] = curArray[y][x+1] + 1\n",
    "\n",
    "\n",
    "# Blow up all nines\n",
    "def expNine(curArray,alreadyExp):\n",
    "    toReset = []\n",
    "    for y in range(he):\n",
    "        for x in range(wi): \n",
    "            if (curArray[y][x] > 9):\n",
    "                # If the cell has already exploded this step, continue\n",
    "                if (alreadyExp[y][x] == 1):\n",
    "                    continue\n",
    "                # Above\n",
    "                if (y > 0):\n",
    "                    curArray[y-1][x] = curArray[y-1][x] + 1\n",
    "                    # NW\n",
    "                    if (x > 0):\n",
    "                        curArray[y-1][x-1] = curArray[y-1][x-1] + 1\n",
    "                    # NE\n",
    "                    if (x < (wi - 1)):\n",
    "                        curArray[y-1][x+1] = curArray[y-1][x+1] + 1\n",
    "                # Below\n",
    "                if (y < (he-1)):\n",
    "                    curArray[y+1][x] = curArray[y+1][x] + 1\n",
    "                    # SW\n",
    "                    if (x > 0):\n",
    "                        curArray[y+1][x-1] = curArray[y+1][x-1] + 1\n",
    "                    # SE\n",
    "                    if (x < (wi - 1)):\n",
    "                        curArray[y+1][x+1] = curArray[y+1][x+1] + 1\n",
    "                # W\n",
    "                if (x > 0):\n",
    "                    curArray[y][x-1] = curArray[y][x-1] + 1\n",
    "                # E\n",
    "                if (x < (wi - 1)):\n",
    "                    curArray[y][x+1] = curArray[y][x+1] + 1\n",
    "\n",
    "                # Update flags\n",
    "                toReset.append([x,y])\n",
    "                alreadyExp[y][x] = 1\n",
    "\n",
    "    return (curArray,alreadyExp)\n",
    "\n",
    "# alreadyExp = np.zeros(cArr.shape)\n",
    "# prevExp = alreadyExp\n",
    "# cArr = addOne(cArr)\n",
    "# # print(cArr)\n",
    "# cArr = addOne(cArr)\n",
    "# # print(cArr)\n",
    "# prevExp = alreadyExp.copy()\n",
    "# cArr,newExpArr = expNine(cArr,alreadyExp)\n",
    "\n",
    "\n",
    "# stepStillRunning = True \n",
    "# while stepStillRunning:\n",
    "#     # Check if prevExp and newExpArr is the same\n",
    "#     curEqualExp = True\n",
    "#     for y in range(he):\n",
    "#         for x in range(wi): \n",
    "#             if (prevExp[y][x] != newExpArr[y][x]):\n",
    "#                 curEqualExp = False\n",
    "#                 alreadyExp[y][x] = 1\n",
    "#     if ~curEqualExp:\n",
    "#         prevExp = alreadyExp.copy()\n",
    "#         cArr,newExpArr = expNine(cArr,alreadyExp)\n",
    "    \n",
    "#     if curEqualExp:\n",
    "#         stepStillRunning = False\n",
    "\n",
    "\n",
    "def oneStep(cArr):\n",
    "    alreadyExp = np.zeros(cArr.shape)\n",
    "    cArr = addOne(cArr)\n",
    "    prevExp = alreadyExp.copy()\n",
    "    cArr,newExpArr = expNine(cArr,alreadyExp)\n",
    "    \n",
    "\n",
    "    stepStillRunning = True \n",
    "    while stepStillRunning:\n",
    "        # Check if prevExp and newExpArr is the same\n",
    "        curEqualExp = True\n",
    "        for y in range(he):\n",
    "            for x in range(wi): \n",
    "                if (prevExp[y][x] != newExpArr[y][x]):\n",
    "                    curEqualExp = False\n",
    "                    alreadyExp[y][x] = 1\n",
    "        if ~curEqualExp:\n",
    "            prevExp = alreadyExp.copy()\n",
    "            cArr,newExpArr = expNine(cArr,alreadyExp)\n",
    "        \n",
    "        if curEqualExp:\n",
    "            stepStillRunning = False\n",
    "    \n",
    "    # Reset all exploded\n",
    "    numExps = 0\n",
    "    for y in range(he):\n",
    "        for x in range(wi):\n",
    "            if alreadyExp[y][x] == 1:\n",
    "                cArr[y][x] = 0\n",
    "                numExps = numExps + 1\n",
    "    return cArr,numExps\n"
   ]
  },
  {
   "cell_type": "code",
   "execution_count": 98,
   "metadata": {},
   "outputs": [
    {
     "name": "stdout",
     "output_type": "stream",
     "text": [
      "Part 1 solution: 1594\n"
     ]
    }
   ],
   "source": [
    "\n",
    "he = len(inputs)\n",
    "wi = len(inputs[0])\n",
    "\n",
    "cArr = []\n",
    "for y in range(he):\n",
    "    cRow = inputs[y]\n",
    "    nRow = []\n",
    "    for x in range(wi):\n",
    "        curVal = cRow[x]\n",
    "        nRow.append(int(curVal))\n",
    "    cArr.append(nRow)\n",
    "cArr = np.array(cArr)\n",
    "\n",
    "totExps = 0\n",
    "numSteps = 100\n",
    "for k in range(numSteps):\n",
    "    cArr,numExpsThisStep = oneStep(cArr)\n",
    "    totExps = totExps + numExpsThisStep\n",
    "\n",
    "    \n",
    "s1 = totExps\n",
    "print(f'Part 1 solution: {s1}')"
   ]
  },
  {
   "cell_type": "markdown",
   "metadata": {},
   "source": [
    "# Part 2"
   ]
  },
  {
   "cell_type": "code",
   "execution_count": 103,
   "metadata": {},
   "outputs": [
    {
     "name": "stdout",
     "output_type": "stream",
     "text": [
      "437\n",
      "447\n",
      "457\n",
      "467\n",
      "477\n",
      "487\n",
      "497\n",
      "Part 2 solution: 437\n"
     ]
    }
   ],
   "source": [
    "s2 = 0\n",
    "\n",
    "he = len(inputs)\n",
    "wi = len(inputs[0])\n",
    "\n",
    "cArr = []\n",
    "for y in range(he):\n",
    "    cRow = inputs[y]\n",
    "    nRow = []\n",
    "    for x in range(wi):\n",
    "        curVal = cRow[x]\n",
    "        nRow.append(int(curVal))\n",
    "    cArr.append(nRow)\n",
    "cArr = np.array(cArr)\n",
    "\n",
    "allExps = [] \n",
    "numSteps = 500\n",
    "for k in range(numSteps):\n",
    "    cArr,numExpsThisStep = oneStep(cArr)\n",
    "    totExps = totExps + numExpsThisStep\n",
    "    if numExpsThisStep == (wi*he):\n",
    "        print(k+1)\n",
    "\n",
    "    allExps.append(numExpsThisStep)\n",
    "    # if ~syncYet:\n",
    "    #     if numExpsThisStep == (wi*he):\n",
    "    #         s2 = k\n",
    "    #         syncYet = True\n",
    "# allExps\n",
    "s2 = np.where(np.array(allExps) == 100)[0][0] + 1\n",
    "print(f'Part 2 solution: {s2}')\n"
   ]
  },
  {
   "cell_type": "code",
   "execution_count": 102,
   "metadata": {},
   "outputs": [
    {
     "data": {
      "text/plain": [
       "436"
      ]
     },
     "execution_count": 102,
     "metadata": {},
     "output_type": "execute_result"
    }
   ],
   "source": []
  }
 ],
 "metadata": {
  "interpreter": {
   "hash": "c031fd63bd977d199cd6020c30a19695eacbb638d100e0b8a5ea53080ed74a9a"
  },
  "kernelspec": {
   "display_name": "Python 3.8.12 64-bit ('main': conda)",
   "language": "python",
   "name": "python3"
  },
  "language_info": {
   "codemirror_mode": {
    "name": "ipython",
    "version": 3
   },
   "file_extension": ".py",
   "mimetype": "text/x-python",
   "name": "python",
   "nbconvert_exporter": "python",
   "pygments_lexer": "ipython3",
   "version": "3.6.5"
  },
  "orig_nbformat": 4
 },
 "nbformat": 4,
 "nbformat_minor": 2
}
