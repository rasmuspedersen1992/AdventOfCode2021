{
 "cells": [
  {
   "cell_type": "code",
   "execution_count": 17,
   "metadata": {},
   "outputs": [
    {
     "name": "stdout",
     "output_type": "stream",
     "text": [
      "Done loading input\n"
     ]
    }
   ],
   "source": [
    "import numpy as np\n",
    "\n",
    "\n",
    "# Load input\n",
    "filename = 'inputs\\\\day2.txt'\n",
    "# filename = 'inputs\\\\day2test.txt'\n",
    "# curIn = np.loadtxt(filename)\n",
    "\n",
    "# Start by loading the data\n",
    "inputFile = open(filename)\n",
    "inputs = []\n",
    "inputs = [s for s in inputFile.read().splitlines()]\n",
    "\n",
    "print('Done loading input')"
   ]
  },
  {
   "cell_type": "code",
   "execution_count": 18,
   "metadata": {},
   "outputs": [
    {
     "name": "stdout",
     "output_type": "stream",
     "text": [
      "1968\n",
      "1063\n",
      "2091984\n"
     ]
    }
   ],
   "source": [
    "inputs\n",
    "\n",
    "curD = 0\n",
    "curH = 0\n",
    "for k in inputs:\n",
    "    spli = k.split(' ')\n",
    "\n",
    "    if spli[0] == 'forward':\n",
    "        curH = curH + int(spli[1])\n",
    "    if spli[0] == 'up':\n",
    "        curD = curD - int(spli[1])\n",
    "    if spli[0] == 'down':\n",
    "        curD = curD + int(spli[1])\n",
    "\n",
    "print(curH)\n",
    "print(curD)\n",
    "print(curD*curH)"
   ]
  },
  {
   "cell_type": "code",
   "execution_count": 19,
   "metadata": {},
   "outputs": [
    {
     "name": "stdout",
     "output_type": "stream",
     "text": [
      "1968\n",
      "1060092\n",
      "2086261056\n"
     ]
    }
   ],
   "source": [
    "inputs\n",
    "\n",
    "curD = 0\n",
    "curH = 0\n",
    "curA = 0\n",
    "for k in inputs:\n",
    "    spli = k.split(' ')\n",
    "\n",
    "    if spli[0] == 'forward':\n",
    "        curH = curH + int(spli[1])\n",
    "        curD = curD + curA* int(spli[1])\n",
    "    if spli[0] == 'up':\n",
    "        # curD = curD - int(spli[1])\n",
    "        curA = curA - int(spli[1])\n",
    "    if spli[0] == 'down':\n",
    "        # curD = curD + int(spli[1])\n",
    "        curA = curA + int(spli[1])\n",
    "\n",
    "print(curH)\n",
    "print(curD)\n",
    "print(curD*curH)"
   ]
  }
 ],
 "metadata": {
  "interpreter": {
   "hash": "c031fd63bd977d199cd6020c30a19695eacbb638d100e0b8a5ea53080ed74a9a"
  },
  "kernelspec": {
   "display_name": "Python 3.8.8 64-bit ('main': conda)",
   "language": "python",
   "name": "python3"
  },
  "language_info": {
   "codemirror_mode": {
    "name": "ipython",
    "version": 3
   },
   "file_extension": ".py",
   "mimetype": "text/x-python",
   "name": "python",
   "nbconvert_exporter": "python",
   "pygments_lexer": "ipython3",
   "version": "3.8.8"
  },
  "orig_nbformat": 4
 },
 "nbformat": 4,
 "nbformat_minor": 2
}
