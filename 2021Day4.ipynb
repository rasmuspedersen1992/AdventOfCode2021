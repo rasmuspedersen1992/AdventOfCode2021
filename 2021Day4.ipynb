{
 "cells": [
  {
   "cell_type": "code",
   "execution_count": 1,
   "metadata": {},
   "outputs": [
    {
     "name": "stdout",
     "output_type": "stream",
     "text": [
      "Done loading input\n"
     ]
    }
   ],
   "source": [
    "import numpy as np\n",
    "\n",
    "\n",
    "# Load input\n",
    "filename = 'inputs\\\\day4.txt'\n",
    "# filename = 'inputs\\\\day4test.txt'\n",
    "# curIn = np.loadtxt(filename)\n",
    "\n",
    "# Start by loading the data\n",
    "inputFile = open(filename)\n",
    "inputs = []\n",
    "inputs = [s for s in inputFile.read().splitlines()]\n",
    "\n",
    "print('Done loading input')"
   ]
  },
  {
   "cell_type": "code",
   "execution_count": 2,
   "metadata": {},
   "outputs": [],
   "source": [
    "def readLine(s):\n",
    "    curSpli = s.replace('  ',' ').split(' ')\n",
    "\n",
    "    if (len(curSpli) == 6):\n",
    "        return curSpli[1:]\n",
    "    else:\n",
    "        return curSpli\n"
   ]
  },
  {
   "cell_type": "code",
   "execution_count": 3,
   "metadata": {},
   "outputs": [],
   "source": [
    "# nums = np.array(inputs[0])\n",
    "# nums = np.array(inputs[0].split(','))\n",
    "nums = [int(x) for x in inputs[0].split(',')]\n",
    "\n",
    "boards = []\n",
    "marks = []\n",
    "numBoards = int((len(inputs)-1)/6)\n",
    "numBoards\n",
    "\n",
    "for k in range(numBoards):\n",
    "\n",
    "    curBoard = np.zeros((5,5),dtype=int)\n",
    "    curBoard[0,:] = readLine(inputs[2+k*6])\n",
    "    curBoard[1,:] = readLine(inputs[3+k*6])\n",
    "    curBoard[2,:] = readLine(inputs[4+k*6])\n",
    "    curBoard[3,:] = readLine(inputs[5+k*6])\n",
    "    curBoard[4,:] = readLine(inputs[6+k*6])\n",
    "\n",
    "    boards.append(curBoard)\n",
    "    \n",
    "    curMarks = np.zeros((5,5))\n",
    "    marks.append(curMarks)\n",
    "\n",
    "# curBoard"
   ]
  },
  {
   "cell_type": "code",
   "execution_count": 4,
   "metadata": {},
   "outputs": [],
   "source": [
    "def checkBoardForWon(b):\n",
    "\n",
    "    # Check columns\n",
    "    for x in range(5):\n",
    "        if (b[x,:].sum()) == 5:\n",
    "            return True \n",
    "    # Check rows\n",
    "    for y in range(5):\n",
    "        if (b[:,y].sum()) == 5:\n",
    "            return True \n",
    "    return False"
   ]
  },
  {
   "cell_type": "code",
   "execution_count": 5,
   "metadata": {},
   "outputs": [],
   "source": [
    "marks = []\n",
    "for k in range(numBoards):\n",
    "    curMarks = np.zeros((5,5))\n",
    "    marks.append(curMarks)\n",
    "\n",
    "isDone = False\n",
    "\n",
    "for curNum in nums:\n",
    "\n",
    "    for k in range(numBoards):\n",
    "        curBoard = boards[k]\n",
    "        if (isDone == False):\n",
    "            for x in range(5):\n",
    "                for y in range(5):\n",
    "                    curVal = curBoard[x,y]\n",
    "\n",
    "                    if (curVal == curNum):\n",
    "                        marks[k][x,y] = 1\n",
    "\n",
    "            if checkBoardForWon(marks[k]):\n",
    "                winningBoard = k\n",
    "                finNum = curNum\n",
    "                isDone = True"
   ]
  },
  {
   "cell_type": "code",
   "execution_count": 6,
   "metadata": {},
   "outputs": [
    {
     "name": "stdout",
     "output_type": "stream",
     "text": [
      "Solution to part 1: 4662\n"
     ]
    }
   ],
   "source": [
    "wb = marks[winningBoard]\n",
    "\n",
    "sumOfUnmarked = 0\n",
    "for x in range(5):\n",
    "    for y in range(5):\n",
    "        if (wb[x,y] == 0):\n",
    "            sumOfUnmarked = sumOfUnmarked + boards[winningBoard][x,y]\n",
    "\n",
    "s1 = sumOfUnmarked *finNum\n",
    "print(f'Solution to part 1: {s1}')"
   ]
  },
  {
   "cell_type": "code",
   "execution_count": 7,
   "metadata": {},
   "outputs": [],
   "source": [
    "def checkBoardVal(b,curMark):\n",
    "    \n",
    "    sumOfUnmarked = 0\n",
    "    for x in range(5):\n",
    "        for y in range(5):\n",
    "            if (curMark[x,y] == 0):\n",
    "                sumOfUnmarked = sumOfUnmarked + b[x,y]\n",
    "    return sumOfUnmarked\n",
    "\n",
    "# checkBoardVal(boards[winningBoard],marks[winningBoard])"
   ]
  },
  {
   "cell_type": "code",
   "execution_count": 8,
   "metadata": {},
   "outputs": [
    {
     "name": "stdout",
     "output_type": "stream",
     "text": [
      "Solution for part 2: 12080\n"
     ]
    }
   ],
   "source": [
    "# Part 2: Find the last board to win\n",
    "marks = []\n",
    "for k in range(numBoards):\n",
    "    curMarks = np.zeros((5,5))\n",
    "    marks.append(curMarks)\n",
    "\n",
    "curWinNum = 0\n",
    "doneBoards = np.zeros((numBoards,1))\n",
    "\n",
    "for curNum in nums:\n",
    "\n",
    "    for k in range(numBoards):\n",
    "        curBoard = boards[k]\n",
    "        if (doneBoards[k] == 1):\n",
    "            continue\n",
    "        for x in range(5):\n",
    "            for y in range(5):\n",
    "                curVal = curBoard[x,y]\n",
    "\n",
    "                if (curVal == curNum):\n",
    "                    marks[k][x,y] = 1\n",
    "\n",
    "        if checkBoardForWon(marks[k]):\n",
    "            doneBoards[k] = 1\n",
    "            s2 = curNum*checkBoardVal(boards[k],marks[k])\n",
    "            # print(curNum*checkBoardVal(boards[k],marks[k]))\n",
    "\n",
    "print(f'Solution for part 2: {s2}')"
   ]
  },
  {
   "cell_type": "code",
   "execution_count": null,
   "metadata": {},
   "outputs": [],
   "source": [
    "df[df.age == 20]"
   ]
  }
 ],
 "metadata": {
  "interpreter": {
   "hash": "c031fd63bd977d199cd6020c30a19695eacbb638d100e0b8a5ea53080ed74a9a"
  },
  "kernelspec": {
   "display_name": "Python 3.8.8 64-bit ('main': conda)",
   "language": "python",
   "name": "python3"
  },
  "language_info": {
   "codemirror_mode": {
    "name": "ipython",
    "version": 3
   },
   "file_extension": ".py",
   "mimetype": "text/x-python",
   "name": "python",
   "nbconvert_exporter": "python",
   "pygments_lexer": "ipython3",
   "version": "3.8.8"
  },
  "orig_nbformat": 4
 },
 "nbformat": 4,
 "nbformat_minor": 2
}
