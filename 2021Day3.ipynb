{
 "cells": [
  {
   "cell_type": "code",
   "execution_count": 28,
   "metadata": {},
   "outputs": [
    {
     "name": "stdout",
     "output_type": "stream",
     "text": [
      "Done loading input\n"
     ]
    }
   ],
   "source": [
    "import numpy as np\n",
    "\n",
    "\n",
    "# Load input\n",
    "filename = 'inputs\\\\day3.txt'\n",
    "# filename = 'inputs\\\\day3test.txt'\n",
    "# curIn = np.loadtxt(filename)\n",
    "\n",
    "# Start by loading the data\n",
    "inputFile = open(filename)\n",
    "inputs = []\n",
    "inputs = [s for s in inputFile.read().splitlines()]\n",
    "\n",
    "print('Done loading input')"
   ]
  },
  {
   "cell_type": "code",
   "execution_count": 39,
   "metadata": {},
   "outputs": [
    {
     "name": "stdout",
     "output_type": "stream",
     "text": [
      "0\n",
      "0\n",
      "0\n",
      "1\n",
      "0\n",
      "1\n",
      "0\n",
      "1\n",
      "1\n",
      "1\n",
      "0\n",
      "1\n"
     ]
    }
   ],
   "source": [
    "curLen = len(inputs[0])\n",
    "numEle = len(inputs)\n",
    "\n",
    "for m in range(curLen):\n",
    "\n",
    "    curVal = 0\n",
    "    for k in range(len(inputs)):\n",
    "\n",
    "        curVal = curVal + int(inputs[k][m])\n",
    "        \n",
    "    print(int(np.round(curVal/numEle)))\n"
   ]
  },
  {
   "cell_type": "code",
   "execution_count": 44,
   "metadata": {},
   "outputs": [
    {
     "name": "stdout",
     "output_type": "stream",
     "text": [
      "Answer to part 1: 1307354\n"
     ]
    }
   ],
   "source": [
    "v1 = int('000101011101',2)\n",
    "v2 = int('111010100010',2)\n",
    "# 349*3746\n",
    "s1 = v1*v2\n",
    "print(f'Answer to part 1: {s1}')"
   ]
  },
  {
   "cell_type": "markdown",
   "metadata": {},
   "source": [
    "# Part 2"
   ]
  },
  {
   "cell_type": "code",
   "execution_count": 32,
   "metadata": {},
   "outputs": [],
   "source": [
    "def getMostCommonInPos(x,pos):\n",
    "    curLen = len(x[0])\n",
    "    numEle = len(x)\n",
    "\n",
    "    curVal = 0\n",
    "    for k in range(len(x)):\n",
    "\n",
    "        curVal = curVal + int(x[k][pos])\n",
    "        \n",
    "    curRat = curVal/numEle\n",
    "    \n",
    "    # Return 1 if equally common\n",
    "    if (curRat == 0.5):\n",
    "        return 1\n",
    "    else:\n",
    "        return int(np.round(curVal/numEle))\n",
    "\n",
    "# print(getMostCommonInPos(inputs,0))\n",
    "# print(getMostCommonInPos(inputs,1))\n",
    "# print(getMostCommonInPos(inputs,2))\n",
    "# print(getMostCommonInPos(inputs,3))\n",
    "# print(getMostCommonInPos(inputs,4))"
   ]
  },
  {
   "cell_type": "code",
   "execution_count": 33,
   "metadata": {},
   "outputs": [
    {
     "data": {
      "text/plain": [
       "['000001111101']"
      ]
     },
     "execution_count": 33,
     "metadata": {},
     "output_type": "execute_result"
    }
   ],
   "source": [
    "# Part 2\n",
    "\n",
    "curLen = len(inputs[0])\n",
    "numEle = len(inputs)\n",
    "\n",
    "curBitPos = 0\n",
    "newList = []\n",
    "\n",
    "curCommon = getMostCommonInPos(inputs,curBitPos)\n",
    "\n",
    "for k in range(numEle):\n",
    "\n",
    "    curEle = inputs[k]\n",
    "    if (curEle[curBitPos] == str(curCommon)):\n",
    "        newList.append(curEle)\n",
    "\n",
    "##\n",
    "\n",
    "oldList = newList.copy()\n",
    "while (len(oldList) > 1):\n",
    "    oldList = newList.copy()\n",
    "    curBitPos = curBitPos + 1\n",
    "\n",
    "    # Restart bit position if full length has been reached \n",
    "    # (This was never actually necessary for the inputs, and were not considered in the description)\n",
    "    # (However, if the final value is reached, my implementation crashes, so this was necessary here)\n",
    "    if (curBitPos >= curLen):\n",
    "        curBitPos = 0\n",
    "\n",
    "    curCommon = getMostCommonInPos(oldList,curBitPos)\n",
    "    newList = []\n",
    "    for k in range(len(oldList)):\n",
    "\n",
    "        curEle = oldList[k]\n",
    "\n",
    "        if (curEle[curBitPos] ==  str(curCommon)):\n",
    "            newList.append(curEle)\n"
   ]
  },
  {
   "cell_type": "code",
   "execution_count": 38,
   "metadata": {},
   "outputs": [
    {
     "name": "stdout",
     "output_type": "stream",
     "text": [
      "Oxygen generator rating: 3860\n"
     ]
    }
   ],
   "source": [
    "v1 = int(oldList[0],2)\n",
    "print(f'Oxygen generator rating: {v1}')"
   ]
  },
  {
   "cell_type": "code",
   "execution_count": 35,
   "metadata": {},
   "outputs": [],
   "source": [
    "def getLeastCommonInPos(x,pos):\n",
    "    curLen = len(x[0])\n",
    "    numEle = len(x)\n",
    "\n",
    "    curVal = 0\n",
    "    for k in range(len(x)):\n",
    "\n",
    "        curVal = curVal + int(x[k][pos])\n",
    "    # print(int(np.round(curVal/numEle)))\n",
    "    # print(curVal/numEle)\n",
    "    curRat = curVal/numEle\n",
    "    # print(curRat == 0.5)\n",
    "    if (curRat == 0.5):\n",
    "        return 0\n",
    "    mostCommon = int(np.round(curVal/numEle))\n",
    "    if (mostCommon == 1):\n",
    "        return 0\n",
    "    else:\n",
    "        return 1\n",
    "\n",
    "# print(getLeastCommonInPos(inputs,0))\n",
    "# print(getLeastCommonInPos(inputs,1))\n",
    "# print(getLeastCommonInPos(inputs,2))\n",
    "# print(getLeastCommonInPos(inputs,3))\n",
    "# print(getLeastCommonInPos(inputs,4))"
   ]
  },
  {
   "cell_type": "code",
   "execution_count": 36,
   "metadata": {},
   "outputs": [
    {
     "data": {
      "text/plain": [
       "['111100010100']"
      ]
     },
     "execution_count": 36,
     "metadata": {},
     "output_type": "execute_result"
    }
   ],
   "source": [
    "# Part 2\n",
    "\n",
    "curLen = len(inputs[0])\n",
    "numEle = len(inputs)\n",
    "\n",
    "curBitPos = 0\n",
    "newList = []\n",
    "\n",
    "curCommon = getLeastCommonInPos(inputs,curBitPos)\n",
    "\n",
    "for k in range(numEle):\n",
    "\n",
    "    curEle = inputs[k]\n",
    "    if (curEle[curBitPos] == str(curCommon)):\n",
    "        newList.append(curEle)\n",
    "\n",
    "##\n",
    "while (len(newList) > 0):\n",
    "# for it in range(2):\n",
    "    oldList = newList.copy()\n",
    "    curBitPos = curBitPos + 1\n",
    "\n",
    "    # Restart bit position if full length has been reached \n",
    "    # (This was never actually necessary for the inputs, and were not considered in the description)\n",
    "    # (However, if the final value is reached, my implementation crashes, so this was necessary here)\n",
    "    if (curBitPos >= curLen):\n",
    "        curBitPos = 0\n",
    "        \n",
    "    curCommon = getLeastCommonInPos(oldList,curBitPos)\n",
    "    newList = []\n",
    "    for k in range(len(oldList)):\n",
    "\n",
    "        curEle = oldList[k]\n",
    "\n",
    "        if (curEle[curBitPos] ==  str(curCommon)):\n",
    "            newList.append(curEle)\n",
    "\n",
    "oldList"
   ]
  },
  {
   "cell_type": "code",
   "execution_count": 45,
   "metadata": {},
   "outputs": [
    {
     "name": "stdout",
     "output_type": "stream",
     "text": [
      "C02 scrubber rating: 3860\n",
      "Answer to part 2: 1347140\n"
     ]
    }
   ],
   "source": [
    "v2 = int(oldList[0],2)\n",
    "print(f'C02 scrubber rating: {v2}')\n",
    "\n",
    "s2 = v1*v2\n",
    "print(f'Answer to part 2: {s2}')"
   ]
  }
 ],
 "metadata": {
  "interpreter": {
   "hash": "c031fd63bd977d199cd6020c30a19695eacbb638d100e0b8a5ea53080ed74a9a"
  },
  "kernelspec": {
   "display_name": "Python 3.8.8 64-bit ('main': conda)",
   "language": "python",
   "name": "python3"
  },
  "language_info": {
   "codemirror_mode": {
    "name": "ipython",
    "version": 3
   },
   "file_extension": ".py",
   "mimetype": "text/x-python",
   "name": "python",
   "nbconvert_exporter": "python",
   "pygments_lexer": "ipython3",
   "version": "3.8.8"
  },
  "orig_nbformat": 4
 },
 "nbformat": 4,
 "nbformat_minor": 2
}
