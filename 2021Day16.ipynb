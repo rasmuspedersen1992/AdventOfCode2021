{
 "cells": [
  {
   "cell_type": "code",
   "execution_count": 2,
   "metadata": {},
   "outputs": [
    {
     "name": "stdout",
     "output_type": "stream",
     "text": [
      "200\n"
     ]
    }
   ],
   "source": [
    "# Import packages\n",
    "import numpy as np\n",
    "curDay = 16\n",
    "\n",
    "# # Download input file\n",
    "# from download_inputs import download_inputs\n",
    "\n",
    "# download_inputs(curDay)"
   ]
  },
  {
   "cell_type": "code",
   "execution_count": 56,
   "metadata": {},
   "outputs": [
    {
     "name": "stdout",
     "output_type": "stream",
     "text": [
      "Done loading input\n"
     ]
    }
   ],
   "source": [
    "# Load input into workspace\n",
    "filename = f'inputs\\\\day{curDay}.txt'\n",
    "filename = f'inputs\\\\day{curDay}test.txt'\n",
    "# curIn = np.loadtxt(filename)\n",
    "\n",
    "# filename= 'inputs\\\\asdf.txt'\n",
    "\n",
    "# Start by loading the data\n",
    "inputFile = open(filename)\n",
    "inputs = []\n",
    "inputs = [s for s in inputFile.read().splitlines()]\n",
    "\n",
    "print('Done loading input')"
   ]
  },
  {
   "cell_type": "code",
   "execution_count": 57,
   "metadata": {},
   "outputs": [
    {
     "data": {
      "text/plain": [
       "['38006F45291200']"
      ]
     },
     "execution_count": 57,
     "metadata": {},
     "output_type": "execute_result"
    }
   ],
   "source": [
    "inputs"
   ]
  },
  {
   "cell_type": "code",
   "execution_count": 59,
   "metadata": {},
   "outputs": [
    {
     "data": {
      "text/plain": [
       "'111000000000000110111101000101001010010001001000000000'"
      ]
     },
     "execution_count": 59,
     "metadata": {},
     "output_type": "execute_result"
    }
   ],
   "source": [
    "curString = 'D2FE28'\n",
    "curString = inputs[0]\n",
    "in_bin = bin(int(curString,16))[2:]\n",
    "in_bin"
   ]
  },
  {
   "cell_type": "code",
   "execution_count": 92,
   "metadata": {},
   "outputs": [],
   "source": [
    "def getBinString(hexStr):\n",
    "    curBin_noLeading = bin(int(hexStr,16))[2:]\n",
    "\n",
    "    curLenMod4 = len(curBin_noLeading) % 4\n",
    "\n",
    "    # print(len(curBin_noLeading) % 4)\n",
    "    if (curLenMod4 == 0):\n",
    "        return curBin_noLeading\n",
    "    if (curLenMod4 == 3):\n",
    "        return '0'+curBin_noLeading\n",
    "    if (curLenMod4 == 2):\n",
    "        return '00'+curBin_noLeading\n",
    "    if (curLenMod4 == 1):\n",
    "        return '000'+curBin_noLeading\n",
    "    \n"
   ]
  },
  {
   "cell_type": "code",
   "execution_count": 50,
   "metadata": {},
   "outputs": [
    {
     "name": "stdout",
     "output_type": "stream",
     "text": [
      "Version: 6, Type ID: 4\n",
      "Literal value of 011111100101, or 2021 in decimal\n"
     ]
    }
   ],
   "source": [
    "curVer_bin = in_bin[:3]\n",
    "curID_bin = in_bin[3:6]\n",
    "curVer = int(curVer_bin,2)\n",
    "curID = int(curID_bin,2)\n",
    "\n",
    "print(f'Version: {curVer}, Type ID: {curID}')\n",
    "\n",
    "###### If literal value (type id 4)\n",
    "litValString = in_bin[6:]\n",
    "remString = litValString\n",
    "\n",
    "outStr = ''\n",
    "curRunning = True\n",
    "\n",
    "while curRunning:\n",
    "    startVal = remString[0]\n",
    "    if (startVal == '1'):\n",
    "        outStr = outStr + remString[1:5]\n",
    "        remString = remString[5:]\n",
    "    else:\n",
    "        outStr = outStr + remString[1:5]\n",
    "        curRunning = False\n",
    "print(f'Literal value of {outStr}, or {int(outStr,2)} in decimal')\n",
    "\n"
   ]
  },
  {
   "cell_type": "code",
   "execution_count": 113,
   "metadata": {},
   "outputs": [
    {
     "name": "stdout",
     "output_type": "stream",
     "text": [
      "Version: 1, Type ID: 6\n",
      "11010001010\n",
      "1674\n",
      "27\n"
     ]
    },
    {
     "data": {
      "text/plain": [
       "'1101000101001010010001001000000000'"
      ]
     },
     "execution_count": 113,
     "metadata": {},
     "output_type": "execute_result"
    }
   ],
   "source": [
    "curString = '38006F45291200'\n",
    "# curString = 'EE00D40C823060'\n",
    "in_bin = getBinString(curString)\n",
    "in_bin\n",
    "curVer_bin = in_bin[:3]\n",
    "curID_bin = in_bin[3:6]\n",
    "curVer = int(curVer_bin,2)\n",
    "curID = int(curID_bin,2)\n",
    "\n",
    "print(f'Version: {curVer}, Type ID: {curID}')\n",
    "\n",
    "##### If not literal value (any other type ID than 4)\n",
    "remString = in_bin[6:]\n",
    "lengthID = remString[0]\n",
    "remString = remString[1:]\n",
    "\n",
    "if (lengthID == '0'):\n",
    "    subPackLen_bin = remString[:15]\n",
    "    remString = remString[15:]\n",
    "    subPackLen = int(subPackLen_bin,2)\n",
    "\n",
    "    if (subPackLen > 11):\n",
    "        thisVal = remString[:11]\n",
    "        print(thisVal)\n",
    "        print(int(thisVal,2))\n",
    "        remString = remString[11:]\n",
    "\n",
    "\n",
    "elif (lengthID == '1'):\n",
    "    subPackLen_bin = remString[:11]\n",
    "    remString = remString[11:]\n",
    "    subPackLen = int(subPackLen_bin,2)\n",
    "\n",
    "print(subPackLen)\n",
    "remString"
   ]
  }
 ],
 "metadata": {
  "interpreter": {
   "hash": "c031fd63bd977d199cd6020c30a19695eacbb638d100e0b8a5ea53080ed74a9a"
  },
  "kernelspec": {
   "display_name": "Python 3.8.12 64-bit ('main': conda)",
   "language": "python",
   "name": "python3"
  },
  "language_info": {
   "codemirror_mode": {
    "name": "ipython",
    "version": 3
   },
   "file_extension": ".py",
   "mimetype": "text/x-python",
   "name": "python",
   "nbconvert_exporter": "python",
   "pygments_lexer": "ipython3",
   "version": "3.8.12"
  },
  "orig_nbformat": 4
 },
 "nbformat": 4,
 "nbformat_minor": 2
}
